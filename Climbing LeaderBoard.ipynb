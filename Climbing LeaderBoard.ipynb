{
 "cells": [
  {
   "cell_type": "code",
   "execution_count": 3,
   "metadata": {},
   "outputs": [],
   "source": [
    "def climbingLeaderboard(ranked, player):\n",
    "    setranked=list(set(ranked))\n",
    "    setranked.sort(reverse=True)\n",
    "    output=[]\n",
    "    for i in player:\n",
    "        h=0\n",
    "        x=len(setranked)\n",
    "        for j in setranked:\n",
    "            if i>=j:\n",
    "                output.append(h+1)\n",
    "                break\n",
    "            else:\n",
    "                h=h+1\n",
    "                x=x-1\n",
    "                if x==0:\n",
    "                    output.append(h+1)\n",
    "    return output"
   ]
  },
  {
   "cell_type": "code",
   "execution_count": 4,
   "metadata": {},
   "outputs": [
    {
     "data": {
      "text/plain": [
       "[6, 4, 2, 1]"
      ]
     },
     "execution_count": 4,
     "metadata": {},
     "output_type": "execute_result"
    }
   ],
   "source": [
    "climbingLeaderboard([100,100,50,40,40,20,10],[5,25,50,120])"
   ]
  }
 ],
 "metadata": {
  "kernelspec": {
   "display_name": "Python 3",
   "language": "python",
   "name": "python3"
  },
  "language_info": {
   "codemirror_mode": {
    "name": "ipython",
    "version": 3
   },
   "file_extension": ".py",
   "mimetype": "text/x-python",
   "name": "python",
   "nbconvert_exporter": "python",
   "pygments_lexer": "ipython3",
   "version": "3.8.3"
  }
 },
 "nbformat": 4,
 "nbformat_minor": 4
}
